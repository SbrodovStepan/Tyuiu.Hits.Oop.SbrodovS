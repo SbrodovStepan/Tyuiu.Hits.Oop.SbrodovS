{
 "cells": [
  {
   "cell_type": "markdown",
   "metadata": {},
   "source": [
    "<h1 style=\"color:DodgerBlue\">Индивидальный проект</h1>"
   ]
  },
  {
   "cell_type": "markdown",
   "metadata": {},
   "source": [
    "<h2 style=\"color:DodgerBlue\">Название проекта:</h2>\n",
    "\n",
    "----\n",
    "\n",
    "### Вариант задания \n"
   ]
  },
  {
   "cell_type": "markdown",
   "metadata": {},
   "source": [
    "<h2 style=\"color:DodgerBlue\">Описание проекта:</h2>\n",
    "\n",
    "----\n",
    "\n",
    "[ваш текст]\n",
    "\n",
    "#### Дополнительное задание\n",
    "Добавьте к сущестующим классам конструктора классов с использованием гетторов и сетторов и реализуйте взаимодействие объектов между собой"
   ]
  },
  {
   "cell_type": "markdown",
   "metadata": {},
   "source": [
    "<h2 style=\"color:DodgerBlue\">Реализация:</h2>\n",
    "\n",
    "----"
   ]
  },
  {
   "cell_type": "code",
   "execution_count": 1,
   "metadata": {
    "dotnet_interactive": {
     "language": "csharp"
    },
    "polyglot_notebook": {
     "kernelName": "csharp"
    }
   },
   "outputs": [
    {
     "name": "stdout",
     "output_type": "stream",
     "text": [
      "ID поставщика: 1, Название компании: Компания 1, Тип продукции: товар 1\n",
      "Предоставление ценового предложения для Компания 1 в товар 1. Основанно в 1995.\n",
      "Заказ, отправленный в Компания 1 для товар 1.\n",
      "\n",
      "ID поставщика: 2, Название компании: Компания 2, Тип продукции: товар 2\n",
      "Предоставление ценового предложения для Компания 2 в товар 2.\n",
      "Заказ, отправленный в Компания 2 для товар 2. Расположение магазина: Дубайск.\n",
      "\n",
      "ID поставщика: 3, Название компании: Компания 3, Тип продукции: товар 3, Страна происхождения: ОАЭ.\n",
      "Предоставление ценового предложения для Компания 3 в товар 3.\n",
      "Заказ, отправленный в Компания 3 для товар 3.\n"
     ]
    }
   ],
   "source": [
    "\n",
    "public abstract class Supplier\n",
    "{\n",
    "    public int SupplierId {get; set;}\n",
    "    public string CompanyName {get; set;}\n",
    "    public string ProductType {get; set;}\n",
    "\n",
    "    public Supplier(int supplierId, string companyName, string productType)\n",
    "    {\n",
    "        SupplierId = supplierId;\n",
    "        CompanyName = companyName;\n",
    "        ProductType = productType;\n",
    "    }\n",
    "\n",
    "    public virtual string GetCompanyInfo()\n",
    "    {\n",
    "        return $\"ID поставщика: {SupplierId}, Название компании: {CompanyName}, Тип продукции: {ProductType}\";\n",
    "    }\n",
    "\n",
    "    public virtual string ProvideQuote()\n",
    "    {\n",
    "        return $\"Предоставление ценового предложения для {CompanyName} в {ProductType}.\";\n",
    "    }\n",
    "\n",
    "    public virtual string SubmitOrder()\n",
    "    {\n",
    "        return ($\"Заказ, отправленный в {CompanyName} для {ProductType}.\");\n",
    "    }\n",
    "}\n",
    "\n",
    "public class Manufacturer : Supplier\n",
    "{\n",
    "    public int FoundedYear { get; set; }\n",
    "\n",
    "    public Manufacturer(int supplierId, string companyName, string productType, int foundedYear)\n",
    "        : base(supplierId, companyName, productType)\n",
    "    {\n",
    "        FoundedYear = foundedYear;\n",
    "    }\n",
    "\n",
    "    public override string ProvideQuote()\n",
    "    {\n",
    "        return $\"{base.ProvideQuote()} Основанно в {FoundedYear}.\";\n",
    "    }\n",
    "}\n",
    "\n",
    "public class Retailer : Supplier\n",
    "{\n",
    "    public string StoreLocation { get; set; }\n",
    "\n",
    "    public Retailer(int supplierId, string companyName, string productType, string storeLocation)\n",
    "        : base(supplierId, companyName, productType)\n",
    "    {\n",
    "        StoreLocation = storeLocation;\n",
    "    }\n",
    "\n",
    "    public override string SubmitOrder()\n",
    "    {\n",
    "        return ($\"{base.SubmitOrder()} Расположение магазина: {StoreLocation}.\");\n",
    "    }\n",
    "}\n",
    "\n",
    "public class Importer : Supplier\n",
    "{\n",
    "    public string OriginCountry { get; set; }\n",
    "\n",
    "    public Importer(int supplierId, string companyName, string productType, string originCountry)\n",
    "        : base(supplierId, companyName, productType)\n",
    "    {\n",
    "        OriginCountry = originCountry;\n",
    "    }\n",
    "\n",
    "    public override string GetCompanyInfo()\n",
    "    {\n",
    "        return $\"{base.GetCompanyInfo()}, Страна происхождения: {OriginCountry}.\";\n",
    "    }\n",
    "}\n",
    "\n",
    "Supplier manufacturer = new Manufacturer(1, \"Компания 1\", \"товар 1\", 1995);\n",
    "Supplier retailer = new Retailer(2, \"Компания 2\", \"товар 2\", \"Дубайск\");\n",
    "Supplier importer = new Importer(3, \"Компания 3\", \"товар 3\", \"ОАЭ\");\n",
    "\n",
    "Console.WriteLine(manufacturer.GetCompanyInfo());\n",
    "Console.WriteLine(manufacturer.ProvideQuote());\n",
    "Console.WriteLine(manufacturer.SubmitOrder());\n",
    "\n",
    "Console.WriteLine();\n",
    "\n",
    "Console.WriteLine(retailer.GetCompanyInfo());\n",
    "Console.WriteLine(retailer.ProvideQuote());\n",
    "Console.WriteLine(retailer.SubmitOrder());\n",
    "\n",
    "Console.WriteLine();\n",
    "\n",
    "Console.WriteLine(importer.GetCompanyInfo());\n",
    "Console.WriteLine(importer.ProvideQuote());\n",
    "Console.WriteLine(importer.SubmitOrder());\n"
   ]
  }
 ],
 "metadata": {
  "kernelspec": {
   "display_name": ".NET (C#)",
   "language": "C#",
   "name": ".net-csharp"
  },
  "polyglot_notebook": {
   "kernelInfo": {
    "defaultKernelName": "csharp",
    "items": [
     {
      "aliases": [],
      "languageName": "csharp",
      "name": "csharp"
     }
    ]
   }
  }
 },
 "nbformat": 4,
 "nbformat_minor": 2
}
